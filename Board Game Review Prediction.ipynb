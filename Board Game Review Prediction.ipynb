{
 "cells": [
  {
   "cell_type": "code",
   "execution_count": null,
   "metadata": {},
   "outputs": [],
   "source": [
    "import matplotlib.pyplot as plt\n",
    "import seaborn as sns\n",
    "from sklearn.model_selection import train_test_split\n",
    "import sys\n",
    "import pandas"
   ]
  },
  {
   "cell_type": "code",
   "execution_count": null,
   "metadata": {},
   "outputs": [],
   "source": [
    "# load dataset as pandas dataframe\n",
    "games=pandas.read_csv(\"games.csv\");\n"
   ]
  },
  {
   "cell_type": "code",
   "execution_count": null,
   "metadata": {
    "scrolled": true
   },
   "outputs": [],
   "source": [
    "print(games.columns)\n",
    "#average_weight implies complexity of game\n",
    "\n",
    "print(games.shape)"
   ]
  },
  {
   "cell_type": "code",
   "execution_count": null,
   "metadata": {},
   "outputs": [],
   "source": [
    "plt.hist(games['average_rating'])\n",
    "plt.show()"
   ]
  },
  {
   "cell_type": "code",
   "execution_count": null,
   "metadata": {},
   "outputs": [],
   "source": [
    "#print first row of all games with 0 rating\n",
    "print(games[games['average_rating']==0].iloc[0])\n",
    "\n",
    "# Dataframe.iloc[] method is used when the index label of a data frame is something other than numeric series of 0,\n",
    "#1, 2, 3….n or in case the user doesn’t know the index label. Rows can be extracted using an imaginary index \n",
    "#position which isn’t visible in the data frame.\n",
    "\n",
    "#print first row of games with rating >0\n",
    "print(games[games['average_rating']>0].iloc[0])\n"
   ]
  },
  {
   "cell_type": "code",
   "execution_count": null,
   "metadata": {},
   "outputs": [],
   "source": [
    "#remove rows from dataset without user review\n",
    "games= games[games['users_rated']>0]\n",
    "\n",
    "#remove any rows with empty values\n",
    "games=games.dropna(axis=0)\n",
    "#Sometimes csv file has null values, which are later displayed as NaN in Data Frame.\n",
    "#Pandas dropna() method allows the user to analyze and drop Rows/Columns with Null values\n",
    "#axis=0, or ‘index’ : Drop rows which contain missing values.\n",
    "#axis=1, or ‘columns’ : Drop columns which contain missing value.\n",
    "plt.hist(games['average_rating'])\n",
    "plt.show()"
   ]
  },
  {
   "cell_type": "code",
   "execution_count": null,
   "metadata": {
    "scrolled": true
   },
   "outputs": [],
   "source": [
    "#correlation matrix for correlation between attributes\n",
    "corrmat=games.corr()\n",
    "fig=plt.figure(figsize=(12,9))\n",
    "\n",
    "sns.heatmap(corrmat,vmax=0.8,square=True)\n",
    "plt.show()\n",
    "#"
   ]
  },
  {
   "cell_type": "code",
   "execution_count": null,
   "metadata": {},
   "outputs": [],
   "source": [
    "#Get all the columns from the dataframe\n",
    "columns=games.columns.tolist()\n",
    "\n",
    "#Filter the columns to remove data we don't want\n",
    "columns=[c for c in columns if c not in [\"bayes_average_rating\", \"average_rating\",\"type\",\"name\",\"id\"]]\n",
    "#Remove: average rating as it is what we want to predict\n",
    "#        bayes_avg_rating as it is based on avg rating\n",
    "#        type=boardgame for all games\n",
    "#        name does not contribute useful info\n",
    "#        id does not contribute useful info\n",
    "\n",
    "#store the variable we'll be predicting on\n",
    "target=\"average_rating\"\n"
   ]
  },
  {
   "cell_type": "code",
   "execution_count": null,
   "metadata": {},
   "outputs": [],
   "source": [
    "#Generate traing and test dataset(80-20 ratio )\n",
    "train=games.sample(frac=0.8,random_state=1)\n",
    "\n",
    "#select anything not in the training set and put it in test\n",
    "test=games.loc[~games.index.isin(train.index)]\n",
    "\n",
    "print(train.shape)\n",
    "print(test.shape)"
   ]
  },
  {
   "cell_type": "markdown",
   "metadata": {},
   "source": [
    "# Using A Linear Training Model: Linear Regression"
   ]
  },
  {
   "cell_type": "code",
   "execution_count": null,
   "metadata": {},
   "outputs": [],
   "source": [
    "#Import linear regression model\n",
    "from sklearn.linear_model import LinearRegression\n",
    "from sklearn.metrics import mean_squared_error\n",
    "\n",
    "#Initialize the model class\n",
    "LR=LinearRegression()\n",
    "\n",
    "#fit the model with the training data and thus optimize parameters\n",
    "LR.fit(train[columns],train[target])\n",
    "\n"
   ]
  },
  {
   "cell_type": "code",
   "execution_count": null,
   "metadata": {},
   "outputs": [],
   "source": [
    "#Generate predictions for test set\n",
    "predictions=LR.predict(test[columns])\n",
    "\n",
    "#Compute error between test predictions and actual values\n",
    "mean_squared_error(predictions,test[target])"
   ]
  },
  {
   "cell_type": "markdown",
   "metadata": {},
   "source": [
    "# Using a Non-Linear Training Model: Random Forest Regressor Model"
   ]
  },
  {
   "cell_type": "code",
   "execution_count": null,
   "metadata": {},
   "outputs": [],
   "source": [
    "# import random forest model\n",
    "from sklearn.ensemble import RandomForestRegressor\n",
    "\n",
    "#Initialize the model\n",
    "RFR=RandomForestRegressor(n_estimators=100,min_samples_leaf=10,random_state=1)\n",
    "\n",
    "#fit the data\n",
    "RFR.fit(train[columns],train[target])\n",
    "\n",
    "predictions=RFR.predict(test[columns])\n",
    "\n",
    "mean_squared_error(predictions,test[target])"
   ]
  },
  {
   "cell_type": "code",
   "execution_count": null,
   "metadata": {},
   "outputs": [],
   "source": [
    "#make predictions on a specific game from dataset\n",
    "print(test[columns].iloc[0])\n",
    "\n",
    "rating_LR=LR.predict(test[columns].iloc[0].values.reshape(1,-1)) #row vector to column vector\n",
    "rating_RFR=RFR.predict(test[columns].iloc[0].values.reshape(1,-1))\n",
    "\n",
    "print(rating_LR)\n",
    "print(rating_RFR)\n",
    "test[target].iloc[0]\n",
    "\n",
    "print(test[columns].iloc[0].values.shape)\n",
    "\n",
    "print(test[columns].iloc[0].values.reshape(1,-1).shape)"
   ]
  },
  {
   "cell_type": "code",
   "execution_count": null,
   "metadata": {},
   "outputs": [],
   "source": [
    "#make predictions on a specific game from dataset\n",
    "print(test[columns].iloc[494])\n",
    "\n",
    "rating_LR=LR.predict(test[columns].iloc[494].values.reshape(1,-1))\n",
    "rating_RFR=RFR.predict(test[columns].iloc[494].values.reshape(1,-1))\n",
    "\n",
    "print(rating_LR)\n",
    "print(rating_RFR)\n",
    "test[target].iloc[494]"
   ]
  },
  {
   "cell_type": "code",
   "execution_count": null,
   "metadata": {},
   "outputs": [],
   "source": []
  }
 ],
 "metadata": {
  "kernelspec": {
   "display_name": "Python 3",
   "language": "python",
   "name": "python3"
  },
  "language_info": {
   "codemirror_mode": {
    "name": "ipython",
    "version": 3
   },
   "file_extension": ".py",
   "mimetype": "text/x-python",
   "name": "python",
   "nbconvert_exporter": "python",
   "pygments_lexer": "ipython3",
   "version": "3.6.7"
  }
 },
 "nbformat": 4,
 "nbformat_minor": 2
}
